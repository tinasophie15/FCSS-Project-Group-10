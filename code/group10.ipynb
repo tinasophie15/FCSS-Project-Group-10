{
 "cells": [
  {
   "cell_type": "markdown",
   "metadata": {},
   "source": [
    "## Unequal Narratives? Investigating Media Bias in the Israel-Palestine Conflict\n",
    "\n",
    "Subtopics:\n",
    "1. Sentiment Analysis and Keyword Frequency of Headlines\n",
    "2. Event Salience: Coverage vs. Casualties\n",
    "3. Comparative Outlet Ideology"
   ]
  },
  {
   "cell_type": "markdown",
   "metadata": {},
   "source": [
    "### Installation of requirements. \n",
    "\n",
    "The following cell contains all the necessary dependencies needed for this project.\n",
    "\n",
    "Here we can add every dependency needed and describe it:\n",
    "* [`pandas`](https://pandas.pydata.org/docs/index.html) is a Python package for creating and working with tabular data. [Here](https://pandas.pydata.org/docs/reference/index.html) is the documentation of `pandas`.\n",
    "* [`numpy`](https://numpy.org/) is a Python package for mathematical functions. [Here](https://numpy.org/doc/stable/reference/index.html) is the documentation of `numpy`.\n",
    "* [`matplotlib`](https://matplotlib.org/) is a Python package for creating plots. [Here](https://matplotlib.org/stable/api/index.html) is the documentation of `matplotlib`.\n",
    "* [`scikit-learn`](https://scikit-learn.org/stable/) is a Python package with different machinelearning algorithms. [Here](https://scikit-learn.org/stable/modules/classes.html) is the documentation of `sklearn`."
   ]
  },
  {
   "cell_type": "code",
   "execution_count": 28,
   "metadata": {},
   "outputs": [
    {
     "name": "stdout",
     "output_type": "stream",
     "text": [
      "Requirement already satisfied: pandas in /home/tina/Schreibtisch/CSS/1.Semester/FCSS/FCSS-Project-Group-10/venv/lib/python3.12/site-packages (2.2.3)\n",
      "Requirement already satisfied: numpy>=1.26.0 in /home/tina/Schreibtisch/CSS/1.Semester/FCSS/FCSS-Project-Group-10/venv/lib/python3.12/site-packages (from pandas) (2.2.1)\n",
      "Requirement already satisfied: python-dateutil>=2.8.2 in /home/tina/Schreibtisch/CSS/1.Semester/FCSS/FCSS-Project-Group-10/venv/lib/python3.12/site-packages (from pandas) (2.9.0.post0)\n",
      "Requirement already satisfied: pytz>=2020.1 in /home/tina/Schreibtisch/CSS/1.Semester/FCSS/FCSS-Project-Group-10/venv/lib/python3.12/site-packages (from pandas) (2024.2)\n",
      "Requirement already satisfied: tzdata>=2022.7 in /home/tina/Schreibtisch/CSS/1.Semester/FCSS/FCSS-Project-Group-10/venv/lib/python3.12/site-packages (from pandas) (2024.2)\n",
      "Requirement already satisfied: six>=1.5 in /home/tina/Schreibtisch/CSS/1.Semester/FCSS/FCSS-Project-Group-10/venv/lib/python3.12/site-packages (from python-dateutil>=2.8.2->pandas) (1.17.0)\n",
      "Requirement already satisfied: numpy in /home/tina/Schreibtisch/CSS/1.Semester/FCSS/FCSS-Project-Group-10/venv/lib/python3.12/site-packages (2.2.1)\n",
      "Requirement already satisfied: matplotlib in /home/tina/Schreibtisch/CSS/1.Semester/FCSS/FCSS-Project-Group-10/venv/lib/python3.12/site-packages (3.10.0)\n",
      "Requirement already satisfied: contourpy>=1.0.1 in /home/tina/Schreibtisch/CSS/1.Semester/FCSS/FCSS-Project-Group-10/venv/lib/python3.12/site-packages (from matplotlib) (1.3.1)\n",
      "Requirement already satisfied: cycler>=0.10 in /home/tina/Schreibtisch/CSS/1.Semester/FCSS/FCSS-Project-Group-10/venv/lib/python3.12/site-packages (from matplotlib) (0.12.1)\n",
      "Requirement already satisfied: fonttools>=4.22.0 in /home/tina/Schreibtisch/CSS/1.Semester/FCSS/FCSS-Project-Group-10/venv/lib/python3.12/site-packages (from matplotlib) (4.55.3)\n",
      "Requirement already satisfied: kiwisolver>=1.3.1 in /home/tina/Schreibtisch/CSS/1.Semester/FCSS/FCSS-Project-Group-10/venv/lib/python3.12/site-packages (from matplotlib) (1.4.8)\n",
      "Requirement already satisfied: numpy>=1.23 in /home/tina/Schreibtisch/CSS/1.Semester/FCSS/FCSS-Project-Group-10/venv/lib/python3.12/site-packages (from matplotlib) (2.2.1)\n",
      "Requirement already satisfied: packaging>=20.0 in /home/tina/Schreibtisch/CSS/1.Semester/FCSS/FCSS-Project-Group-10/venv/lib/python3.12/site-packages (from matplotlib) (24.2)\n",
      "Requirement already satisfied: pillow>=8 in /home/tina/Schreibtisch/CSS/1.Semester/FCSS/FCSS-Project-Group-10/venv/lib/python3.12/site-packages (from matplotlib) (11.1.0)\n",
      "Requirement already satisfied: pyparsing>=2.3.1 in /home/tina/Schreibtisch/CSS/1.Semester/FCSS/FCSS-Project-Group-10/venv/lib/python3.12/site-packages (from matplotlib) (3.2.1)\n",
      "Requirement already satisfied: python-dateutil>=2.7 in /home/tina/Schreibtisch/CSS/1.Semester/FCSS/FCSS-Project-Group-10/venv/lib/python3.12/site-packages (from matplotlib) (2.9.0.post0)\n",
      "Requirement already satisfied: six>=1.5 in /home/tina/Schreibtisch/CSS/1.Semester/FCSS/FCSS-Project-Group-10/venv/lib/python3.12/site-packages (from python-dateutil>=2.7->matplotlib) (1.17.0)\n",
      "Requirement already satisfied: scikit-learn in /home/tina/Schreibtisch/CSS/1.Semester/FCSS/FCSS-Project-Group-10/venv/lib/python3.12/site-packages (1.6.1)\n",
      "Requirement already satisfied: numpy>=1.19.5 in /home/tina/Schreibtisch/CSS/1.Semester/FCSS/FCSS-Project-Group-10/venv/lib/python3.12/site-packages (from scikit-learn) (2.2.1)\n",
      "Requirement already satisfied: scipy>=1.6.0 in /home/tina/Schreibtisch/CSS/1.Semester/FCSS/FCSS-Project-Group-10/venv/lib/python3.12/site-packages (from scikit-learn) (1.15.1)\n",
      "Requirement already satisfied: joblib>=1.2.0 in /home/tina/Schreibtisch/CSS/1.Semester/FCSS/FCSS-Project-Group-10/venv/lib/python3.12/site-packages (from scikit-learn) (1.4.2)\n",
      "Requirement already satisfied: threadpoolctl>=3.1.0 in /home/tina/Schreibtisch/CSS/1.Semester/FCSS/FCSS-Project-Group-10/venv/lib/python3.12/site-packages (from scikit-learn) (3.5.0)\n",
      "Collecting seaborn\n",
      "  Downloading seaborn-0.13.2-py3-none-any.whl.metadata (5.4 kB)\n",
      "Requirement already satisfied: numpy!=1.24.0,>=1.20 in /home/tina/Schreibtisch/CSS/1.Semester/FCSS/FCSS-Project-Group-10/venv/lib/python3.12/site-packages (from seaborn) (2.2.1)\n",
      "Requirement already satisfied: pandas>=1.2 in /home/tina/Schreibtisch/CSS/1.Semester/FCSS/FCSS-Project-Group-10/venv/lib/python3.12/site-packages (from seaborn) (2.2.3)\n",
      "Requirement already satisfied: matplotlib!=3.6.1,>=3.4 in /home/tina/Schreibtisch/CSS/1.Semester/FCSS/FCSS-Project-Group-10/venv/lib/python3.12/site-packages (from seaborn) (3.10.0)\n",
      "Requirement already satisfied: contourpy>=1.0.1 in /home/tina/Schreibtisch/CSS/1.Semester/FCSS/FCSS-Project-Group-10/venv/lib/python3.12/site-packages (from matplotlib!=3.6.1,>=3.4->seaborn) (1.3.1)\n",
      "Requirement already satisfied: cycler>=0.10 in /home/tina/Schreibtisch/CSS/1.Semester/FCSS/FCSS-Project-Group-10/venv/lib/python3.12/site-packages (from matplotlib!=3.6.1,>=3.4->seaborn) (0.12.1)\n",
      "Requirement already satisfied: fonttools>=4.22.0 in /home/tina/Schreibtisch/CSS/1.Semester/FCSS/FCSS-Project-Group-10/venv/lib/python3.12/site-packages (from matplotlib!=3.6.1,>=3.4->seaborn) (4.55.3)\n",
      "Requirement already satisfied: kiwisolver>=1.3.1 in /home/tina/Schreibtisch/CSS/1.Semester/FCSS/FCSS-Project-Group-10/venv/lib/python3.12/site-packages (from matplotlib!=3.6.1,>=3.4->seaborn) (1.4.8)\n",
      "Requirement already satisfied: packaging>=20.0 in /home/tina/Schreibtisch/CSS/1.Semester/FCSS/FCSS-Project-Group-10/venv/lib/python3.12/site-packages (from matplotlib!=3.6.1,>=3.4->seaborn) (24.2)\n",
      "Requirement already satisfied: pillow>=8 in /home/tina/Schreibtisch/CSS/1.Semester/FCSS/FCSS-Project-Group-10/venv/lib/python3.12/site-packages (from matplotlib!=3.6.1,>=3.4->seaborn) (11.1.0)\n",
      "Requirement already satisfied: pyparsing>=2.3.1 in /home/tina/Schreibtisch/CSS/1.Semester/FCSS/FCSS-Project-Group-10/venv/lib/python3.12/site-packages (from matplotlib!=3.6.1,>=3.4->seaborn) (3.2.1)\n",
      "Requirement already satisfied: python-dateutil>=2.7 in /home/tina/Schreibtisch/CSS/1.Semester/FCSS/FCSS-Project-Group-10/venv/lib/python3.12/site-packages (from matplotlib!=3.6.1,>=3.4->seaborn) (2.9.0.post0)\n",
      "Requirement already satisfied: pytz>=2020.1 in /home/tina/Schreibtisch/CSS/1.Semester/FCSS/FCSS-Project-Group-10/venv/lib/python3.12/site-packages (from pandas>=1.2->seaborn) (2024.2)\n",
      "Requirement already satisfied: tzdata>=2022.7 in /home/tina/Schreibtisch/CSS/1.Semester/FCSS/FCSS-Project-Group-10/venv/lib/python3.12/site-packages (from pandas>=1.2->seaborn) (2024.2)\n",
      "Requirement already satisfied: six>=1.5 in /home/tina/Schreibtisch/CSS/1.Semester/FCSS/FCSS-Project-Group-10/venv/lib/python3.12/site-packages (from python-dateutil>=2.7->matplotlib!=3.6.1,>=3.4->seaborn) (1.17.0)\n",
      "Downloading seaborn-0.13.2-py3-none-any.whl (294 kB)\n",
      "\u001b[2K   \u001b[90m━━━━━━━━━━━━━━━━━━━━━━━━━━━━━━━━━━━━━━━━\u001b[0m \u001b[32m294.9/294.9 kB\u001b[0m \u001b[31m2.6 MB/s\u001b[0m eta \u001b[36m0:00:00\u001b[0ma \u001b[36m0:00:01\u001b[0m\n",
      "\u001b[?25hInstalling collected packages: seaborn\n",
      "Successfully installed seaborn-0.13.2\n"
     ]
    }
   ],
   "source": [
    "! pip install pandas\n",
    "! pip install numpy\n",
    "! pip install matplotlib\n",
    "! pip install scikit-learn\n",
    "! pip install seaborn"
   ]
  },
  {
   "cell_type": "markdown",
   "metadata": {},
   "source": [
    "### Import requirements\n",
    "The cell below imports all necessary dependancies."
   ]
  },
  {
   "cell_type": "code",
   "execution_count": 29,
   "metadata": {
    "tags": []
   },
   "outputs": [],
   "source": [
    "import pandas as pd\n",
    "import matplotlib.pyplot as plt\n",
    "import seaborn as sns\n",
    "import numpy as np\n",
    "from sklearn.linear_model import LinearRegression"
   ]
  },
  {
   "cell_type": "markdown",
   "metadata": {},
   "source": [
    "## Data Preparation\n",
    "\n",
    "### Data cleaning from the file from Media Cloud.\n"
   ]
  },
  {
   "cell_type": "code",
   "execution_count": 30,
   "metadata": {},
   "outputs": [],
   "source": [
    "file_path = \"data.csv\"\n",
    "data = pd.read_csv(file_path)"
   ]
  },
  {
   "cell_type": "markdown",
   "metadata": {},
   "source": [
    "Filtering by keywords: We check if the title column contains any of the needed words, ignoring case sensitivity and handling missing values."
   ]
  },
  {
   "cell_type": "code",
   "execution_count": 31,
   "metadata": {
    "tags": []
   },
   "outputs": [
    {
     "data": {
      "text/html": [
       "<div>\n",
       "<style scoped>\n",
       "    .dataframe tbody tr th:only-of-type {\n",
       "        vertical-align: middle;\n",
       "    }\n",
       "\n",
       "    .dataframe tbody tr th {\n",
       "        vertical-align: top;\n",
       "    }\n",
       "\n",
       "    .dataframe thead th {\n",
       "        text-align: right;\n",
       "    }\n",
       "</style>\n",
       "<table border=\"1\" class=\"dataframe\">\n",
       "  <thead>\n",
       "    <tr style=\"text-align: right;\">\n",
       "      <th></th>\n",
       "      <th>Media Name</th>\n",
       "      <th>Media Url</th>\n",
       "      <th>Publish Date</th>\n",
       "      <th>Title</th>\n",
       "      <th>Article Url</th>\n",
       "    </tr>\n",
       "  </thead>\n",
       "  <tbody>\n",
       "    <tr>\n",
       "      <th>2</th>\n",
       "      <td>foxnews.com</td>\n",
       "      <td>foxnews.com</td>\n",
       "      <td>2024-04-07</td>\n",
       "      <td>Mother of American abducted by Hamas: Cease-fi...</td>\n",
       "      <td>https://www.foxnews.com/politics/mother-americ...</td>\n",
       "    </tr>\n",
       "    <tr>\n",
       "      <th>3</th>\n",
       "      <td>nbcnews.com</td>\n",
       "      <td>nbcnews.com</td>\n",
       "      <td>2024-04-07</td>\n",
       "      <td>Israeli military pulls troops from southern Gaza</td>\n",
       "      <td>https://www.nbcnews.com/news/world/israeli-mil...</td>\n",
       "    </tr>\n",
       "    <tr>\n",
       "      <th>5</th>\n",
       "      <td>cnn.com</td>\n",
       "      <td>cnn.com</td>\n",
       "      <td>2024-04-07</td>\n",
       "      <td>‘I can’t believe we’re sitting here six months...</td>\n",
       "      <td>https://www.cnn.com/videos/politics/2024/04/07...</td>\n",
       "    </tr>\n",
       "    <tr>\n",
       "      <th>8</th>\n",
       "      <td>nypost.com</td>\n",
       "      <td>nypost.com</td>\n",
       "      <td>2024-04-07</td>\n",
       "      <td>Did Israel surrender to White House pressure i...</td>\n",
       "      <td>https://nypost.com/2024/04/07/opinion/did-isra...</td>\n",
       "    </tr>\n",
       "    <tr>\n",
       "      <th>9</th>\n",
       "      <td>foxnews.com</td>\n",
       "      <td>foxnews.com</td>\n",
       "      <td>2024-04-07</td>\n",
       "      <td>Democratic senator hits admin for Israel messa...</td>\n",
       "      <td>https://www.foxnews.com/media/democratic-senat...</td>\n",
       "    </tr>\n",
       "    <tr>\n",
       "      <th>...</th>\n",
       "      <td>...</td>\n",
       "      <td>...</td>\n",
       "      <td>...</td>\n",
       "      <td>...</td>\n",
       "      <td>...</td>\n",
       "    </tr>\n",
       "    <tr>\n",
       "      <th>12858</th>\n",
       "      <td>nytimes.com</td>\n",
       "      <td>nytimes.com</td>\n",
       "      <td>2023-10-07</td>\n",
       "      <td>Israel’s defense failures may change strategy ...</td>\n",
       "      <td>https://www.nytimes.com/2023/10/07/world/middl...</td>\n",
       "    </tr>\n",
       "    <tr>\n",
       "      <th>12859</th>\n",
       "      <td>nbcnews.com</td>\n",
       "      <td>nbcnews.com</td>\n",
       "      <td>2023-10-07</td>\n",
       "      <td>How reports of Israeli hostages will influence...</td>\n",
       "      <td>https://www.nbcnews.com/video/how-reports-of-i...</td>\n",
       "    </tr>\n",
       "    <tr>\n",
       "      <th>12860</th>\n",
       "      <td>nytimes.com</td>\n",
       "      <td>nytimes.com</td>\n",
       "      <td>2023-10-07</td>\n",
       "      <td>Gaza Has Suffered Under 16-Year Blockade</td>\n",
       "      <td>https://www.nytimes.com/2023/10/07/world/middl...</td>\n",
       "    </tr>\n",
       "    <tr>\n",
       "      <th>12861</th>\n",
       "      <td>nbcnews.com</td>\n",
       "      <td>nbcnews.com</td>\n",
       "      <td>2023-10-07</td>\n",
       "      <td>Hamas says it has taken ‘dozens’ of Israelis h...</td>\n",
       "      <td>https://www.nbcnews.com/news/world/hamas-israe...</td>\n",
       "    </tr>\n",
       "    <tr>\n",
       "      <th>12862</th>\n",
       "      <td>foxnews.com</td>\n",
       "      <td>foxnews.com</td>\n",
       "      <td>2023-10-07</td>\n",
       "      <td>Israel’s military says force is ‘at war’ with ...</td>\n",
       "      <td>https://www.foxnews.com/world/israels-military...</td>\n",
       "    </tr>\n",
       "  </tbody>\n",
       "</table>\n",
       "<p>6925 rows × 5 columns</p>\n",
       "</div>"
      ],
      "text/plain": [
       "        Media Name    Media Url Publish Date  \\\n",
       "2      foxnews.com  foxnews.com   2024-04-07   \n",
       "3      nbcnews.com  nbcnews.com   2024-04-07   \n",
       "5          cnn.com      cnn.com   2024-04-07   \n",
       "8       nypost.com   nypost.com   2024-04-07   \n",
       "9      foxnews.com  foxnews.com   2024-04-07   \n",
       "...            ...          ...          ...   \n",
       "12858  nytimes.com  nytimes.com   2023-10-07   \n",
       "12859  nbcnews.com  nbcnews.com   2023-10-07   \n",
       "12860  nytimes.com  nytimes.com   2023-10-07   \n",
       "12861  nbcnews.com  nbcnews.com   2023-10-07   \n",
       "12862  foxnews.com  foxnews.com   2023-10-07   \n",
       "\n",
       "                                                   Title  \\\n",
       "2      Mother of American abducted by Hamas: Cease-fi...   \n",
       "3       Israeli military pulls troops from southern Gaza   \n",
       "5      ‘I can’t believe we’re sitting here six months...   \n",
       "8      Did Israel surrender to White House pressure i...   \n",
       "9      Democratic senator hits admin for Israel messa...   \n",
       "...                                                  ...   \n",
       "12858  Israel’s defense failures may change strategy ...   \n",
       "12859  How reports of Israeli hostages will influence...   \n",
       "12860           Gaza Has Suffered Under 16-Year Blockade   \n",
       "12861  Hamas says it has taken ‘dozens’ of Israelis h...   \n",
       "12862  Israel’s military says force is ‘at war’ with ...   \n",
       "\n",
       "                                             Article Url  \n",
       "2      https://www.foxnews.com/politics/mother-americ...  \n",
       "3      https://www.nbcnews.com/news/world/israeli-mil...  \n",
       "5      https://www.cnn.com/videos/politics/2024/04/07...  \n",
       "8      https://nypost.com/2024/04/07/opinion/did-isra...  \n",
       "9      https://www.foxnews.com/media/democratic-senat...  \n",
       "...                                                  ...  \n",
       "12858  https://www.nytimes.com/2023/10/07/world/middl...  \n",
       "12859  https://www.nbcnews.com/video/how-reports-of-i...  \n",
       "12860  https://www.nytimes.com/2023/10/07/world/middl...  \n",
       "12861  https://www.nbcnews.com/news/world/hamas-israe...  \n",
       "12862  https://www.foxnews.com/world/israels-military...  \n",
       "\n",
       "[6925 rows x 5 columns]"
      ]
     },
     "execution_count": 31,
     "metadata": {},
     "output_type": "execute_result"
    }
   ],
   "source": [
    "keywords = [\"Gaza\", \"Israel\", \"Palestine\", \"West Bank\", \"Palestinian\", \"Hamas\", \"IDF\"]\n",
    "data_filtered = data[data['title'].str.contains('|'.join(keywords), case=False, na=False)]\n",
    "\n",
    "# Drop the 'id' and 'language' columns\n",
    "data_cleaned = data_filtered.drop(columns=['id', 'indexed_date', 'language'])\n",
    "\n",
    "data_cleaned = data_cleaned.rename(columns={\n",
    "    \"media_name\": \"Media Name\",\n",
    "    \"media_url\": \"Media Url\",\n",
    "    \"publish_date\": \"Publish Date\",\n",
    "    \"title\": \"Title\",\n",
    "    \"url\": \"Article Url\"\n",
    "})\n",
    "\n",
    "cleaned_file_path = \"data_cleaned_filtered.csv\"\n",
    "data_cleaned.to_csv(cleaned_file_path, index=False)\n",
    "\n",
    "data_cleaned"
   ]
  },
  {
   "cell_type": "markdown",
   "metadata": {},
   "source": [
    "### Analysis of Media Coverage\n",
    "The bar chart below illustrates the number of posts published by six major US media outlets (CNN, NBC, NY Post, NY Times, Fox, and Wall Street Journal) related to Gaza, Israel, or Palestine during the selected timeframe. This analysis highlights variations in the volume of coverage among these outlets, offering insights into their reporting focus on the topic."
   ]
  },
  {
   "cell_type": "code",
   "execution_count": 36,
   "metadata": {},
   "outputs": [
    {
     "data": {
      "image/png": "[encoded data removed]",
      "text/plain": [
       "<Figure size 1000x600 with 1 Axes>"
      ]
     },
     "metadata": {},
     "output_type": "display_data"
    }
   ],
   "source": [
    "# Count the number of posts for each media outlet\n",
    "media_counts = data_cleaned['Media Name'].value_counts()\n",
    "\n",
    "plt.figure(figsize=(10, 6))\n",
    "sns.barplot(x=media_counts.index, y=media_counts.values)\n",
    "\n",
    "plt.xlabel(\"Media Outlet\", fontsize=14)\n",
    "plt.ylabel(\"Number of Posts\", fontsize=14)\n",
    "plt.title(\"Number of Posts About the Conflict by Media Outlet (2023-10-07 until 2024-04-07)\", fontsize=16)\n",
    "plt.show()"
   ]
  },
  {
   "cell_type": "markdown",
   "metadata": {},
   "source": [
    "## 1 Sentiment Analysis and Keyword Frequency of Headlines\n",
    "\n",
    "### 1.1 \n"
   ]
  },
  {
   "cell_type": "code",
   "execution_count": null,
   "metadata": {},
   "outputs": [],
   "source": []
  },
  {
   "cell_type": "markdown",
   "metadata": {},
   "source": [
    "## 2 Event Salience: Coverage vs. Casualties\n",
    "\n",
    "### 2.1"
   ]
  },
  {
   "cell_type": "code",
   "execution_count": null,
   "metadata": {},
   "outputs": [],
   "source": []
  },
  {
   "cell_type": "markdown",
   "metadata": {},
   "source": [
    "## 3 Comparative Outlet Ideology\n",
    "\n",
    "### 3.1"
   ]
  },
  {
   "cell_type": "code",
   "execution_count": null,
   "metadata": {},
   "outputs": [],
   "source": []
  }
 ],
 "metadata": {
  "kernelspec": {
   "display_name": "venv",
   "language": "python",
   "name": "python3"
  },
  "language_info": {
   "codemirror_mode": {
    "name": "ipython",
    "version": 3
   },
   "file_extension": ".py",
   "mimetype": "text/x-python",
   "name": "python",
   "nbconvert_exporter": "python",
   "pygments_lexer": "ipython3",
   "version": "3.12.3"
  }
 },
 "nbformat": 4,
 "nbformat_minor": 4
}
