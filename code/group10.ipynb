{
 "cells": [
  {
   "cell_type": "markdown",
   "metadata": {},
   "source": [
    "## Unequal Narratives? Investigating Media Bias in the Israel-Palestine Conflict\n",
    "\n",
    "Subtopics:\n",
    "1. Sentiment Analysis and Keyword Frequency of Headlines\n",
    "2. Event Salience: Coverage vs. Casualties\n",
    "3. Comparative Outlet Ideology"
   ]
  },
  {
   "cell_type": "markdown",
   "metadata": {},
   "source": [
    "### Installation of requirements. \n",
    "\n",
    "The following cell contains all the necessary dependencies needed for this project.\n",
    "\n",
    "Here we can add every dependency needed and describe it:\n",
    "* [`pandas`](https://pandas.pydata.org/docs/index.html) is a Python package for creating and working with tabular data. [Here](https://pandas.pydata.org/docs/reference/index.html) is the documentation of `pandas`.\n",
    "* [`numpy`](https://numpy.org/) is a Python package for mathematical functions. [Here](https://numpy.org/doc/stable/reference/index.html) is the documentation of `numpy`.\n",
    "* [`matplotlib`](https://matplotlib.org/) is a Python package for creating plots. [Here](https://matplotlib.org/stable/api/index.html) is the documentation of `matplotlib`.\n",
    "* [`scikit-learn`](https://scikit-learn.org/stable/) is a Python package with different machinelearning algorithms. [Here](https://scikit-learn.org/stable/modules/classes.html) is the documentation of `sklearn`."
   ]
  },
  {
   "cell_type": "code",
   "execution_count": 1,
   "metadata": {},
   "outputs": [
    {
     "name": "stdout",
     "output_type": "stream",
     "text": [
      "Collecting pandas\n",
      "  Using cached pandas-2.2.3-cp312-cp312-manylinux_2_17_x86_64.manylinux2014_x86_64.whl.metadata (89 kB)\n",
      "Collecting numpy>=1.26.0 (from pandas)\n",
      "  Using cached numpy-2.2.1-cp312-cp312-manylinux_2_17_x86_64.manylinux2014_x86_64.whl.metadata (62 kB)\n",
      "Requirement already satisfied: python-dateutil>=2.8.2 in /home/tina/Schreibtisch/CSS/1.Semester/FCSS/FCSS-Project-Group-10/venv/lib/python3.12/site-packages (from pandas) (2.9.0.post0)\n",
      "Collecting pytz>=2020.1 (from pandas)\n",
      "  Using cached pytz-2024.2-py2.py3-none-any.whl.metadata (22 kB)\n",
      "Collecting tzdata>=2022.7 (from pandas)\n",
      "  Using cached tzdata-2024.2-py2.py3-none-any.whl.metadata (1.4 kB)\n",
      "Requirement already satisfied: six>=1.5 in /home/tina/Schreibtisch/CSS/1.Semester/FCSS/FCSS-Project-Group-10/venv/lib/python3.12/site-packages (from python-dateutil>=2.8.2->pandas) (1.17.0)\n",
      "Using cached pandas-2.2.3-cp312-cp312-manylinux_2_17_x86_64.manylinux2014_x86_64.whl (12.7 MB)\n",
      "Using cached numpy-2.2.1-cp312-cp312-manylinux_2_17_x86_64.manylinux2014_x86_64.whl (16.1 MB)\n",
      "Using cached pytz-2024.2-py2.py3-none-any.whl (508 kB)\n",
      "Using cached tzdata-2024.2-py2.py3-none-any.whl (346 kB)\n",
      "Installing collected packages: pytz, tzdata, numpy, pandas\n",
      "Successfully installed numpy-2.2.1 pandas-2.2.3 pytz-2024.2 tzdata-2024.2\n",
      "Requirement already satisfied: numpy in /home/tina/Schreibtisch/CSS/1.Semester/FCSS/FCSS-Project-Group-10/venv/lib/python3.12/site-packages (2.2.1)\n",
      "Collecting matplotlib\n",
      "  Using cached matplotlib-3.10.0-cp312-cp312-manylinux_2_17_x86_64.manylinux2014_x86_64.whl.metadata (11 kB)\n",
      "Collecting contourpy>=1.0.1 (from matplotlib)\n",
      "  Using cached contourpy-1.3.1-cp312-cp312-manylinux_2_17_x86_64.manylinux2014_x86_64.whl.metadata (5.4 kB)\n",
      "Collecting cycler>=0.10 (from matplotlib)\n",
      "  Using cached cycler-0.12.1-py3-none-any.whl.metadata (3.8 kB)\n",
      "Collecting fonttools>=4.22.0 (from matplotlib)\n",
      "  Using cached fonttools-4.55.3-cp312-cp312-manylinux_2_5_x86_64.manylinux1_x86_64.manylinux_2_17_x86_64.manylinux2014_x86_64.whl.metadata (165 kB)\n",
      "Collecting kiwisolver>=1.3.1 (from matplotlib)\n",
      "  Using cached kiwisolver-1.4.8-cp312-cp312-manylinux_2_17_x86_64.manylinux2014_x86_64.whl.metadata (6.2 kB)\n",
      "Requirement already satisfied: numpy>=1.23 in /home/tina/Schreibtisch/CSS/1.Semester/FCSS/FCSS-Project-Group-10/venv/lib/python3.12/site-packages (from matplotlib) (2.2.1)\n",
      "Requirement already satisfied: packaging>=20.0 in /home/tina/Schreibtisch/CSS/1.Semester/FCSS/FCSS-Project-Group-10/venv/lib/python3.12/site-packages (from matplotlib) (24.2)\n",
      "Collecting pillow>=8 (from matplotlib)\n",
      "  Downloading pillow-11.1.0-cp312-cp312-manylinux_2_28_x86_64.whl.metadata (9.1 kB)\n",
      "Collecting pyparsing>=2.3.1 (from matplotlib)\n",
      "  Using cached pyparsing-3.2.1-py3-none-any.whl.metadata (5.0 kB)\n",
      "Requirement already satisfied: python-dateutil>=2.7 in /home/tina/Schreibtisch/CSS/1.Semester/FCSS/FCSS-Project-Group-10/venv/lib/python3.12/site-packages (from matplotlib) (2.9.0.post0)\n",
      "Requirement already satisfied: six>=1.5 in /home/tina/Schreibtisch/CSS/1.Semester/FCSS/FCSS-Project-Group-10/venv/lib/python3.12/site-packages (from python-dateutil>=2.7->matplotlib) (1.17.0)\n",
      "Using cached matplotlib-3.10.0-cp312-cp312-manylinux_2_17_x86_64.manylinux2014_x86_64.whl (8.6 MB)\n",
      "Using cached contourpy-1.3.1-cp312-cp312-manylinux_2_17_x86_64.manylinux2014_x86_64.whl (323 kB)\n",
      "Using cached cycler-0.12.1-py3-none-any.whl (8.3 kB)\n",
      "Using cached fonttools-4.55.3-cp312-cp312-manylinux_2_5_x86_64.manylinux1_x86_64.manylinux_2_17_x86_64.manylinux2014_x86_64.whl (4.9 MB)\n",
      "Using cached kiwisolver-1.4.8-cp312-cp312-manylinux_2_17_x86_64.manylinux2014_x86_64.whl (1.5 MB)\n",
      "Downloading pillow-11.1.0-cp312-cp312-manylinux_2_28_x86_64.whl (4.5 MB)\n",
      "\u001b[2K   \u001b[90m━━━━━━━━━━━━━━━━━━━━━━━━━━━━━━━━━━━━━━━━\u001b[0m \u001b[32m4.5/4.5 MB\u001b[0m \u001b[31m6.1 MB/s\u001b[0m eta \u001b[36m0:00:00\u001b[0m00:01\u001b[0m00:01\u001b[0m\n",
      "\u001b[?25hUsing cached pyparsing-3.2.1-py3-none-any.whl (107 kB)\n",
      "Installing collected packages: pyparsing, pillow, kiwisolver, fonttools, cycler, contourpy, matplotlib\n",
      "Successfully installed contourpy-1.3.1 cycler-0.12.1 fonttools-4.55.3 kiwisolver-1.4.8 matplotlib-3.10.0 pillow-11.1.0 pyparsing-3.2.1\n",
      "Collecting scikit-learn\n",
      "  Downloading scikit_learn-1.6.1-cp312-cp312-manylinux_2_17_x86_64.manylinux2014_x86_64.whl.metadata (18 kB)\n",
      "Requirement already satisfied: numpy>=1.19.5 in /home/tina/Schreibtisch/CSS/1.Semester/FCSS/FCSS-Project-Group-10/venv/lib/python3.12/site-packages (from scikit-learn) (2.2.1)\n",
      "Collecting scipy>=1.6.0 (from scikit-learn)\n",
      "  Downloading scipy-1.15.1-cp312-cp312-manylinux_2_17_x86_64.manylinux2014_x86_64.whl.metadata (61 kB)\n",
      "\u001b[2K     \u001b[90m━━━━━━━━━━━━━━━━━━━━━━━━━━━━━━━━━━━━━━━━\u001b[0m \u001b[32m62.0/62.0 kB\u001b[0m \u001b[31m1.3 MB/s\u001b[0m eta \u001b[36m0:00:00\u001b[0ma \u001b[36m0:00:01\u001b[0m\n",
      "\u001b[?25hCollecting joblib>=1.2.0 (from scikit-learn)\n",
      "  Using cached joblib-1.4.2-py3-none-any.whl.metadata (5.4 kB)\n",
      "Collecting threadpoolctl>=3.1.0 (from scikit-learn)\n",
      "  Using cached threadpoolctl-3.5.0-py3-none-any.whl.metadata (13 kB)\n",
      "Downloading scikit_learn-1.6.1-cp312-cp312-manylinux_2_17_x86_64.manylinux2014_x86_64.whl (13.1 MB)\n",
      "\u001b[2K   \u001b[90m━━━━━━━━━━━━━━━━━━━━━━━━━━━━━━━━━━━━━━━━\u001b[0m \u001b[32m13.1/13.1 MB\u001b[0m \u001b[31m7.1 MB/s\u001b[0m eta \u001b[36m0:00:00\u001b[0m00:01\u001b[0m00:01\u001b[0m\n",
      "\u001b[?25hUsing cached joblib-1.4.2-py3-none-any.whl (301 kB)\n",
      "Downloading scipy-1.15.1-cp312-cp312-manylinux_2_17_x86_64.manylinux2014_x86_64.whl (40.2 MB)\n",
      "\u001b[2K   \u001b[90m━━━━━━━━━━━━━━━━━━━━━━━━━━━━━━━━━━━━━━━━\u001b[0m \u001b[32m40.2/40.2 MB\u001b[0m \u001b[31m6.6 MB/s\u001b[0m eta \u001b[36m0:00:00\u001b[0m00:01\u001b[0m00:01\u001b[0mm\n",
      "\u001b[?25hUsing cached threadpoolctl-3.5.0-py3-none-any.whl (18 kB)\n",
      "Installing collected packages: threadpoolctl, scipy, joblib, scikit-learn\n",
      "Successfully installed joblib-1.4.2 scikit-learn-1.6.1 scipy-1.15.1 threadpoolctl-3.5.0\n"
     ]
    }
   ],
   "source": [
    "! pip install pandas\n",
    "! pip install numpy\n",
    "! pip install matplotlib\n",
    "! pip install scikit-learn"
   ]
  },
  {
   "cell_type": "markdown",
   "metadata": {},
   "source": [
    "### Import requirements\n",
    "The cell below imports all necessary dependancies."
   ]
  },
  {
   "cell_type": "code",
   "execution_count": 2,
   "metadata": {
    "tags": []
   },
   "outputs": [],
   "source": [
    "import pandas as pd\n",
    "import matplotlib.pyplot as plt\n",
    "import numpy as np\n",
    "from sklearn.linear_model import LinearRegression"
   ]
  },
  {
   "cell_type": "markdown",
   "metadata": {},
   "source": [
    "## Data Preparation\n",
    "\n",
    "### Data cleaning from the file from Media Cloud.\n"
   ]
  },
  {
   "cell_type": "code",
   "execution_count": 20,
   "metadata": {},
   "outputs": [],
   "source": [
    "file_path = \"data.csv\"\n",
    "data = pd.read_csv(file_path)"
   ]
  },
  {
   "cell_type": "markdown",
   "metadata": {},
   "source": [
    "Filtering by keywords: We check if the title column contains any of the needed words, ignoring case sensitivity and handling missing values."
   ]
  },
  {
   "cell_type": "code",
   "execution_count": 22,
   "metadata": {
    "tags": []
   },
   "outputs": [
    {
     "data": {
      "text/html": [
       "<div>\n",
       "<style scoped>\n",
       "    .dataframe tbody tr th:only-of-type {\n",
       "        vertical-align: middle;\n",
       "    }\n",
       "\n",
       "    .dataframe tbody tr th {\n",
       "        vertical-align: top;\n",
       "    }\n",
       "\n",
       "    .dataframe thead th {\n",
       "        text-align: right;\n",
       "    }\n",
       "</style>\n",
       "<table border=\"1\" class=\"dataframe\">\n",
       "  <thead>\n",
       "    <tr style=\"text-align: right;\">\n",
       "      <th></th>\n",
       "      <th>Media Name</th>\n",
       "      <th>Media Url</th>\n",
       "      <th>Publish Date</th>\n",
       "      <th>Title</th>\n",
       "      <th>Article Url</th>\n",
       "    </tr>\n",
       "  </thead>\n",
       "  <tbody>\n",
       "    <tr>\n",
       "      <th>2</th>\n",
       "      <td>foxnews.com</td>\n",
       "      <td>foxnews.com</td>\n",
       "      <td>2024-04-07</td>\n",
       "      <td>Mother of American abducted by Hamas: Cease-fi...</td>\n",
       "      <td>https://www.foxnews.com/politics/mother-americ...</td>\n",
       "    </tr>\n",
       "    <tr>\n",
       "      <th>3</th>\n",
       "      <td>nbcnews.com</td>\n",
       "      <td>nbcnews.com</td>\n",
       "      <td>2024-04-07</td>\n",
       "      <td>Israeli military pulls troops from southern Gaza</td>\n",
       "      <td>https://www.nbcnews.com/news/world/israeli-mil...</td>\n",
       "    </tr>\n",
       "    <tr>\n",
       "      <th>5</th>\n",
       "      <td>cnn.com</td>\n",
       "      <td>cnn.com</td>\n",
       "      <td>2024-04-07</td>\n",
       "      <td>‘I can’t believe we’re sitting here six months...</td>\n",
       "      <td>https://www.cnn.com/videos/politics/2024/04/07...</td>\n",
       "    </tr>\n",
       "    <tr>\n",
       "      <th>8</th>\n",
       "      <td>nypost.com</td>\n",
       "      <td>nypost.com</td>\n",
       "      <td>2024-04-07</td>\n",
       "      <td>Did Israel surrender to White House pressure i...</td>\n",
       "      <td>https://nypost.com/2024/04/07/opinion/did-isra...</td>\n",
       "    </tr>\n",
       "    <tr>\n",
       "      <th>9</th>\n",
       "      <td>foxnews.com</td>\n",
       "      <td>foxnews.com</td>\n",
       "      <td>2024-04-07</td>\n",
       "      <td>Democratic senator hits admin for Israel messa...</td>\n",
       "      <td>https://www.foxnews.com/media/democratic-senat...</td>\n",
       "    </tr>\n",
       "    <tr>\n",
       "      <th>...</th>\n",
       "      <td>...</td>\n",
       "      <td>...</td>\n",
       "      <td>...</td>\n",
       "      <td>...</td>\n",
       "      <td>...</td>\n",
       "    </tr>\n",
       "    <tr>\n",
       "      <th>12858</th>\n",
       "      <td>nytimes.com</td>\n",
       "      <td>nytimes.com</td>\n",
       "      <td>2023-10-07</td>\n",
       "      <td>Israel’s defense failures may change strategy ...</td>\n",
       "      <td>https://www.nytimes.com/2023/10/07/world/middl...</td>\n",
       "    </tr>\n",
       "    <tr>\n",
       "      <th>12859</th>\n",
       "      <td>nbcnews.com</td>\n",
       "      <td>nbcnews.com</td>\n",
       "      <td>2023-10-07</td>\n",
       "      <td>How reports of Israeli hostages will influence...</td>\n",
       "      <td>https://www.nbcnews.com/video/how-reports-of-i...</td>\n",
       "    </tr>\n",
       "    <tr>\n",
       "      <th>12860</th>\n",
       "      <td>nytimes.com</td>\n",
       "      <td>nytimes.com</td>\n",
       "      <td>2023-10-07</td>\n",
       "      <td>Gaza Has Suffered Under 16-Year Blockade</td>\n",
       "      <td>https://www.nytimes.com/2023/10/07/world/middl...</td>\n",
       "    </tr>\n",
       "    <tr>\n",
       "      <th>12861</th>\n",
       "      <td>nbcnews.com</td>\n",
       "      <td>nbcnews.com</td>\n",
       "      <td>2023-10-07</td>\n",
       "      <td>Hamas says it has taken ‘dozens’ of Israelis h...</td>\n",
       "      <td>https://www.nbcnews.com/news/world/hamas-israe...</td>\n",
       "    </tr>\n",
       "    <tr>\n",
       "      <th>12862</th>\n",
       "      <td>foxnews.com</td>\n",
       "      <td>foxnews.com</td>\n",
       "      <td>2023-10-07</td>\n",
       "      <td>Israel’s military says force is ‘at war’ with ...</td>\n",
       "      <td>https://www.foxnews.com/world/israels-military...</td>\n",
       "    </tr>\n",
       "  </tbody>\n",
       "</table>\n",
       "<p>6925 rows × 5 columns</p>\n",
       "</div>"
      ],
      "text/plain": [
       "        Media Name    Media Url Publish Date  \\\n",
       "2      foxnews.com  foxnews.com   2024-04-07   \n",
       "3      nbcnews.com  nbcnews.com   2024-04-07   \n",
       "5          cnn.com      cnn.com   2024-04-07   \n",
       "8       nypost.com   nypost.com   2024-04-07   \n",
       "9      foxnews.com  foxnews.com   2024-04-07   \n",
       "...            ...          ...          ...   \n",
       "12858  nytimes.com  nytimes.com   2023-10-07   \n",
       "12859  nbcnews.com  nbcnews.com   2023-10-07   \n",
       "12860  nytimes.com  nytimes.com   2023-10-07   \n",
       "12861  nbcnews.com  nbcnews.com   2023-10-07   \n",
       "12862  foxnews.com  foxnews.com   2023-10-07   \n",
       "\n",
       "                                                   Title  \\\n",
       "2      Mother of American abducted by Hamas: Cease-fi...   \n",
       "3       Israeli military pulls troops from southern Gaza   \n",
       "5      ‘I can’t believe we’re sitting here six months...   \n",
       "8      Did Israel surrender to White House pressure i...   \n",
       "9      Democratic senator hits admin for Israel messa...   \n",
       "...                                                  ...   \n",
       "12858  Israel’s defense failures may change strategy ...   \n",
       "12859  How reports of Israeli hostages will influence...   \n",
       "12860           Gaza Has Suffered Under 16-Year Blockade   \n",
       "12861  Hamas says it has taken ‘dozens’ of Israelis h...   \n",
       "12862  Israel’s military says force is ‘at war’ with ...   \n",
       "\n",
       "                                             Article Url  \n",
       "2      https://www.foxnews.com/politics/mother-americ...  \n",
       "3      https://www.nbcnews.com/news/world/israeli-mil...  \n",
       "5      https://www.cnn.com/videos/politics/2024/04/07...  \n",
       "8      https://nypost.com/2024/04/07/opinion/did-isra...  \n",
       "9      https://www.foxnews.com/media/democratic-senat...  \n",
       "...                                                  ...  \n",
       "12858  https://www.nytimes.com/2023/10/07/world/middl...  \n",
       "12859  https://www.nbcnews.com/video/how-reports-of-i...  \n",
       "12860  https://www.nytimes.com/2023/10/07/world/middl...  \n",
       "12861  https://www.nbcnews.com/news/world/hamas-israe...  \n",
       "12862  https://www.foxnews.com/world/israels-military...  \n",
       "\n",
       "[6925 rows x 5 columns]"
      ]
     },
     "execution_count": 22,
     "metadata": {},
     "output_type": "execute_result"
    }
   ],
   "source": [
    "keywords = [\"Gaza\", \"Israel\", \"Palestine\", \"West Bank\", \"Palestinian\", \"Hamas\", \"IDF\"]\n",
    "data_filtered = data[data['title'].str.contains('|'.join(keywords), case=False, na=False)]\n",
    "\n",
    "# Drop the 'id' and 'language' columns\n",
    "data_cleaned = data_filtered.drop(columns=['id', 'indexed_date', 'language'])\n",
    "\n",
    "data_cleaned = data_cleaned.rename(columns={\n",
    "    \"media_name\": \"Media Name\",\n",
    "    \"media_url\": \"Media Url\",\n",
    "    \"publish_date\": \"Publish Date\",\n",
    "    \"title\": \"Title\",\n",
    "    \"url\": \"Article Url\"\n",
    "})\n",
    "\n",
    "cleaned_file_path = \"data_cleaned_filtered.csv\"\n",
    "data_cleaned.to_csv(cleaned_file_path, index=False)\n",
    "\n",
    "data_cleaned"
   ]
  },
  {
   "cell_type": "markdown",
   "metadata": {},
   "source": [
    "## 1 Sentiment Analysis and Keyword Frequency of Headlines\n",
    "\n",
    "### 1.1 \n"
   ]
  },
  {
   "cell_type": "code",
   "execution_count": null,
   "metadata": {},
   "outputs": [],
   "source": []
  },
  {
   "cell_type": "markdown",
   "metadata": {},
   "source": [
    "## 2 Event Salience: Coverage vs. Casualties\n",
    "\n",
    "### 2.1"
   ]
  },
  {
   "cell_type": "code",
   "execution_count": null,
   "metadata": {},
   "outputs": [],
   "source": []
  },
  {
   "cell_type": "markdown",
   "metadata": {},
   "source": [
    "## 3 Comparative Outlet Ideology\n",
    "\n",
    "### 3.1"
   ]
  },
  {
   "cell_type": "code",
   "execution_count": null,
   "metadata": {},
   "outputs": [],
   "source": []
  }
 ],
 "metadata": {
  "kernelspec": {
   "display_name": "venv",
   "language": "python",
   "name": "python3"
  },
  "language_info": {
   "codemirror_mode": {
    "name": "ipython",
    "version": 3
   },
   "file_extension": ".py",
   "mimetype": "text/x-python",
   "name": "python",
   "nbconvert_exporter": "python",
   "pygments_lexer": "ipython3",
   "version": "3.12.3"
  }
 },
 "nbformat": 4,
 "nbformat_minor": 4
}
